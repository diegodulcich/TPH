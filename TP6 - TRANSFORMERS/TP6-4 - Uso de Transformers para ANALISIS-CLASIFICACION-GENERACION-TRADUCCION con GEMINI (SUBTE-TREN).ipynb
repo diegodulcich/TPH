{
  "nbformat": 4,
  "nbformat_minor": 0,
  "metadata": {
    "colab": {
      "provenance": [],
      "gpuType": "T4"
    },
    "kernelspec": {
      "name": "python3",
      "display_name": "Python 3"
    },
    "language_info": {
      "name": "python"
    },
    "accelerator": "GPU"
  },
  "cells": [
    {
      "cell_type": "code",
      "execution_count": 13,
      "metadata": {
        "id": "5ZVm6CIouwgF"
      },
      "outputs": [],
      "source": [
        "%pip install -U -q google-genai"
      ]
    },
    {
      "cell_type": "markdown",
      "source": [
        "# Procesamiento de Lenguaje Natural con Google Gemini API\n",
        "Este script demuestra diversas aplicaciones de Procesamiento de Lenguaje Natural (PLN) utilizando el modelo Gemini de Google a través de la librería `google-generativeai`."
      ],
      "metadata": {
        "id": "KvvIHZvXyE2n"
      }
    },
    {
      "cell_type": "code",
      "source": [
        "from google.colab import userdata\n",
        "import os\n",
        "\n",
        "GOOGLE_API_KEY = userdata.get('GOOGLE_API_KEY')"
      ],
      "metadata": {
        "id": "0xS2NWpqvWHX"
      },
      "execution_count": 14,
      "outputs": []
    },
    {
      "cell_type": "code",
      "source": [
        "from google import genai\n",
        "from google.genai import types\n",
        "\n",
        "cliente = genai.Client(api_key=GOOGLE_API_KEY)"
      ],
      "metadata": {
        "id": "sL2CGPN7vvHj"
      },
      "execution_count": 15,
      "outputs": []
    },
    {
      "cell_type": "markdown",
      "source": [
        "# Definición del texto de entrada"
      ],
      "metadata": {
        "id": "Cy_bZVjVyTbE"
      }
    },
    {
      "cell_type": "code",
      "source": [
        "# Texto base que utilizaremos para todos los ejemplos.\n",
        "\n",
        "text_to_process = \"\"\"Tomo el Subte de la línea A todas las mañanas a las 07:00 am para ir al trabajo.\n",
        "Sucede que como el Subte A tiene cercanía con la línea de ferrocarril Sarmiento, dependiendo\n",
        "de la llegada del tren a la estación San Jose de Flores, el subte puede ser que venga sumamente cargado con lo cual, generalmente dejamos pasar una formación para tomar la siguiente.\n",
        "Otra opción de viaje es utilizar líneas de colectivo pero tiene como ventaja ser más económica en retrimento de demorar más en llegar a destino.\"\"\"\n",
        "\n",
        "print(\"\\nTexto de entrada definido.\")"
      ],
      "metadata": {
        "id": "_NwHWVYpv_Ji",
        "colab": {
          "base_uri": "https://localhost:8080/"
        },
        "outputId": "79bac125-529c-4db5-d1b2-69d92b305f70"
      },
      "execution_count": 16,
      "outputs": [
        {
          "output_type": "stream",
          "name": "stdout",
          "text": [
            "\n",
            "Texto de entrada definido.\n"
          ]
        }
      ]
    },
    {
      "cell_type": "code",
      "source": [
        "MODEL_ID = \"gemini-2.0-flash\" # @param [\"gemini-2.0-flash-lite\",\"gemini-2.0-flash\",\"gemini-2.5-flash-preview-05-20\",\"gemini-2.5-pro-preview-05-06\"] {\"allow-input\":true, isTemplate: true}"
      ],
      "metadata": {
        "id": "msa42Srs1Mci"
      },
      "execution_count": 17,
      "outputs": []
    },
    {
      "cell_type": "markdown",
      "source": [
        "## 1. Sumarizacion"
      ],
      "metadata": {
        "id": "nR1SRBxf1Sma"
      }
    },
    {
      "cell_type": "code",
      "source": [
        "pregunta = f\"\"\"Sumariza el siguiente texto en dos oraciones de rapida lectura\n",
        "\n",
        "Texto: {text_to_process}\n",
        "\"\"\"\n",
        "\n",
        "respuesta = cliente.models.generate_content(\n",
        "    model=MODEL_ID,\n",
        "    contents=[pregunta] # Pasa la pregunta como contenido\n",
        ")\n",
        "print(respuesta.text)"
      ],
      "metadata": {
        "id": "zjLIg2OZ1Pby",
        "colab": {
          "base_uri": "https://localhost:8080/"
        },
        "outputId": "225e7a94-e402-4e7e-8b55-375d916e05a0"
      },
      "execution_count": 18,
      "outputs": [
        {
          "output_type": "stream",
          "name": "stdout",
          "text": [
            "Tomo el Subte A a las 7 am para ir al trabajo, pero a menudo está lleno debido a la conexión con el tren Sarmiento, obligándome a esperar el siguiente. Si no, podría tomar un colectivo, que es más barato pero más lento.\n",
            "\n"
          ]
        }
      ]
    },
    {
      "cell_type": "markdown",
      "source": [
        "##2. Clasificación de Sentimiento"
      ],
      "metadata": {
        "id": "A0XQRDI01INu"
      }
    },
    {
      "cell_type": "code",
      "source": [
        "pregunta = f\"\"\"Clasificá el siguiente texto como positivo, negativo o neutral y explicá por qué:\n",
        "\n",
        "Texto: {text_to_process}\n",
        "\"\"\"\n",
        "\n",
        "respuesta = cliente.models.generate_content(\n",
        "    model=MODEL_ID,\n",
        "    contents=[pregunta] # Pasa la pregunta como contenido\n",
        ")\n",
        "print(respuesta.text)"
      ],
      "metadata": {
        "id": "w59q68sb0og-",
        "colab": {
          "base_uri": "https://localhost:8080/"
        },
        "outputId": "20d56c09-b81b-4e61-932b-653b82960e25"
      },
      "execution_count": 19,
      "outputs": [
        {
          "output_type": "stream",
          "name": "stdout",
          "text": [
            "El texto es **neutral**. Aquí está la explicación:\n",
            "\n",
            "*   **No hay juicios de valor fuertes:** El texto describe una situación cotidiana de transporte sin expresar emociones o valoraciones explícitas positivas o negativas. Se presenta la información de manera objetiva.\n",
            "*   **Se mencionan ventajas y desventajas de cada opción:** Se reconoce que el subte puede venir lleno (un inconveniente), pero también se indica que el colectivo es más económico (una ventaja) a pesar de ser más lento (una desventaja). Esto muestra un equilibrio en la presentación de la información.\n",
            "*   **No hay lenguaje emocional:** No se utilizan palabras que sugieran frustración, enojo, felicidad o cualquier otra emoción intensa. Simplemente se describe la rutina y las alternativas.\n",
            "\n",
            "En resumen, el texto actúa como un reporte o una descripción de opciones de transporte, sin tomar partido por ninguna ni expresar un sentimiento particular al respecto.\n",
            "\n"
          ]
        }
      ]
    },
    {
      "cell_type": "markdown",
      "source": [
        "##3. Reconocimiento de Entidades Nombradas (NER)"
      ],
      "metadata": {
        "id": "Eyjbk9Ij1mlD"
      }
    },
    {
      "cell_type": "code",
      "source": [
        "prompt = f\"\"\"Extraé todas las entidades nombradas del siguiente texto (personas, organizaciones, lugares, objetos) y clasificálas:\n",
        "\n",
        "Texto: {text_to_process}\n",
        "\"\"\"\n",
        "\n",
        "respuesta = cliente.models.generate_content(\n",
        "    model=MODEL_ID,\n",
        "    contents=[prompt] # Pasa la pregunta como contenido\n",
        ")\n",
        "print(respuesta.text)"
      ],
      "metadata": {
        "id": "0ZO0owXo1nqM",
        "colab": {
          "base_uri": "https://localhost:8080/"
        },
        "outputId": "b8e70778-6e3b-4ffa-b0d4-fe9196dce523"
      },
      "execution_count": 20,
      "outputs": [
        {
          "output_type": "stream",
          "name": "stdout",
          "text": [
            "Aquí están las entidades nombradas identificadas en el texto y su clasificación:\n",
            "\n",
            "*   **Subte A:** Objeto (un tipo específico de transporte)\n",
            "*   **Línea A:** Objeto (un tipo específico de transporte)\n",
            "*   **Sarmiento:** Organización (línea de ferrocarril)\n",
            "*   **San José de Flores:** Lugar (estación de ferrocarril)\n",
            "\n"
          ]
        }
      ]
    },
    {
      "cell_type": "markdown",
      "source": [
        "##4. Respuesta a preguntas (Question Answering)"
      ],
      "metadata": {
        "id": "R7nLX8XA2ARy"
      }
    },
    {
      "cell_type": "code",
      "source": [
        "pregunta = \"¿Qué opción de transporte prefiere un usuario?\"\n",
        "contexto = text_to_process\n",
        "\n",
        "prompt = f\"\"\"Respondé la siguiente pregunta basada en el texto:\n",
        "\n",
        "Texto: {contexto}\n",
        "Pregunta: {pregunta}\n",
        "\"\"\"\n",
        "\n",
        "respuesta = cliente.models.generate_content(\n",
        "    model=MODEL_ID,\n",
        "    contents=[contexto, pregunta] # Pasa la pregunta como contenido\n",
        ")\n",
        "print(respuesta.text)\n"
      ],
      "metadata": {
        "id": "_OJB5YkV2B0d",
        "colab": {
          "base_uri": "https://localhost:8080/"
        },
        "outputId": "ab296edc-1fa1-440c-ec62-7f595202f80b"
      },
      "execution_count": 22,
      "outputs": [
        {
          "output_type": "stream",
          "name": "stdout",
          "text": [
            "La preferencia de un usuario entre el Subte A y el colectivo en este escenario dependerá de la **prioridad individual** entre **tiempo y costo**, así como su **tolerancia a la incomodidad**. Aquí te desglosamos los factores a considerar:\n",
            "\n",
            "**Subte A:**\n",
            "\n",
            "*   **Ventajas:**\n",
            "    *   Potencialmente más rápido que el colectivo, especialmente si no está lleno.\n",
            "    *   Si logra tomar un subte no tan lleno, es una experiencia más cómoda que viajar apretado en un colectivo.\n",
            "\n",
            "*   **Desventajas:**\n",
            "    *   Posibilidad de que esté extremadamente lleno, obligando a esperar el siguiente, lo cual introduce incertidumbre y retraso.\n",
            "    *   La espera de una formación adicional puede sumar tiempo al viaje.\n",
            "    *   Podría ser más caro que el colectivo (dependiendo de las tarifas y si se utilizan pases/tarjetas).\n",
            "\n",
            "**Colectivo:**\n",
            "\n",
            "*   **Ventajas:**\n",
            "    *   Más económico.\n",
            "    *   Mayor disponibilidad (si uno está lleno, generalmente viene otro pronto).\n",
            "    *   Menos susceptible a retrasos masivos como paros o problemas técnicos (aunque el tráfico siempre es un factor).\n",
            "\n",
            "*   **Desventajas:**\n",
            "    *   Más lento, especialmente en horas pico debido al tráfico.\n",
            "    *   Potencialmente menos cómodo, especialmente si va lleno.\n",
            "    *   Depende del tráfico, lo cual lo hace menos predecible en cuanto a tiempo de viaje.\n",
            "\n",
            "**En resumen:**\n",
            "\n",
            "*   **Si la prioridad es llegar rápido al trabajo, incluso si implica un gasto mayor y la posibilidad de viajar incómodo (y/o esperar), el Subte A es la mejor opción.** El usuario necesita evaluar qué tan seguido el subte está tan lleno que requiere esperar otra formación y cuánto tiempo agrega esto a su viaje.\n",
            "*   **Si la prioridad es ahorrar dinero y no le importa demorar más en el viaje, el colectivo es la mejor opción.** El usuario debe considerar cuánta demora adicional está dispuesto a tolerar por el ahorro económico.\n",
            "*   **Tolerancia a la incomodidad:**  Es un factor muy personal. Si el usuario detesta viajar apretado, podría estar dispuesto a pagar más por el subte, incluso si implica esperar. Si no le molesta tanto, el colectivo podría ser una opción viable.\n",
            "\n",
            "**Recomendación:**\n",
            "\n",
            "Para tomar una decisión informada, el usuario podría:\n",
            "\n",
            "1.  **Monitorear la frecuencia con la que el Subte A está lleno** en su horario habitual (7:00 am) durante una semana.\n",
            "2.  **Cronometrar ambas opciones** (Subte A incluyendo la espera eventual, y colectivo) durante unos días para tener una estimación realista del tiempo de viaje promedio de cada una.\n",
            "3.  **Comparar el costo total** de cada opción (incluyendo pases/tarjetas) durante un período determinado (ej. un mes).\n",
            "\n",
            "Con esta información, el usuario puede evaluar objetivamente cuál opción se alinea mejor con sus prioridades y presupuesto.\n",
            "\n"
          ]
        }
      ]
    },
    {
      "cell_type": "markdown",
      "source": [
        "##5. Resumen automático"
      ],
      "metadata": {
        "id": "teUpLbTm2iah"
      }
    },
    {
      "cell_type": "code",
      "source": [
        "prompt = f\"\"\"Resumí el siguiente texto en no más de 3 líneas:\n",
        "\n",
        "Texto: {text_to_process}\n",
        "\"\"\"\n",
        "\n",
        "respuesta = cliente.models.generate_content(\n",
        "    model=MODEL_ID,\n",
        "    contents=[prompt] # Pasa la pregunta como contenido\n",
        ")\n",
        "print(respuesta.text)\n"
      ],
      "metadata": {
        "id": "eU1ntrhI2iIC",
        "colab": {
          "base_uri": "https://localhost:8080/"
        },
        "outputId": "e44341e0-131d-498c-8659-8b75cf8ae1d0"
      },
      "execution_count": 23,
      "outputs": [
        {
          "output_type": "stream",
          "name": "stdout",
          "text": [
            "El autor toma el Subte A a las 7:00 am para ir al trabajo, pero a menudo debe dejar pasar un tren por la aglomeración debido a la conexión con el ferrocarril Sarmiento. La alternativa es tomar un colectivo, más económico pero más lento.\n",
            "\n"
          ]
        }
      ]
    },
    {
      "cell_type": "markdown",
      "source": [
        "##6. Traducción (Español a Inglés)"
      ],
      "metadata": {
        "id": "tnd7hnBo254-"
      }
    },
    {
      "cell_type": "code",
      "source": [
        "prompt = f\"\"\"Traducí al inglés este texto:\n",
        "\n",
        "Texto: {text_to_process}\n",
        "\"\"\"\n",
        "\n",
        "respuesta = cliente.models.generate_content(\n",
        "    model=MODEL_ID,\n",
        "    contents=[prompt] # Pasa la pregunta como contenido\n",
        ")\n",
        "print(respuesta.text)\n"
      ],
      "metadata": {
        "id": "txSjXi-w2zOL",
        "colab": {
          "base_uri": "https://localhost:8080/"
        },
        "outputId": "b52bb916-f126-4d9a-b4f2-e004385d93d8"
      },
      "execution_count": 24,
      "outputs": [
        {
          "output_type": "stream",
          "name": "stdout",
          "text": [
            "Here's the translation of the text:\n",
            "\n",
            "\"I take the Line A subway every morning at 7:00 AM to go to work. The thing is, since Line A is close to the Sarmiento train line, depending on the train's arrival at the San Jose de Flores station, the subway can be extremely crowded. Because of this, we usually let one train pass to take the next one. Another travel option is to use bus lines, but while it's more economical, the downside is that it takes longer to reach my destination.\"\n",
            "\n"
          ]
        }
      ]
    },
    {
      "cell_type": "markdown",
      "source": [
        "##7. Generación de respuesta (como atención al cliente)"
      ],
      "metadata": {
        "id": "n2ODoTLy3Cp9"
      }
    },
    {
      "cell_type": "code",
      "source": [
        "respuesta_inicial = \"Estimado usuario, en relación al transporte público en la ciudad: \"\n",
        "\n",
        "prompt = f\"\"\"{text_to_process}\n",
        "\n",
        "Redactá una respuesta del servicio de atención al cliente que comience así:\n",
        "\n",
        "\"{respuesta_inicial}\"\n",
        "\n",
        "Cuya extension no supere las 4 lineas.\n",
        "\"\"\"\n",
        "\n",
        "respuesta = cliente.models.generate_content(\n",
        "    model=MODEL_ID,\n",
        "    contents=[prompt] # Pasa la pregunta como contenido\n",
        ")\n",
        "print(respuesta.text)"
      ],
      "metadata": {
        "id": "WmAhcje23CTG",
        "colab": {
          "base_uri": "https://localhost:8080/"
        },
        "outputId": "8b381e35-9473-4631-c2de-70b7eedd29c1"
      },
      "execution_count": 25,
      "outputs": [
        {
          "output_type": "stream",
          "name": "stdout",
          "text": [
            "Estimado usuario, en relación al transporte público en la ciudad: comprendemos las dificultades que experimenta con la línea A y su conexión con el ferrocarril Sarmiento. Lamentablemente, la demanda en hora pico suele generar congestión. Le sugerimos explorar alternativas como combinar el subte con el colectivo para optimizar tiempo y costo.\n",
            "\n"
          ]
        }
      ]
    },
    {
      "cell_type": "markdown",
      "source": [
        "##8. Clasificación Zero-Shot (sin entrenamiento previo)"
      ],
      "metadata": {
        "id": "dtVjz8gr3VGR"
      }
    },
    {
      "cell_type": "code",
      "source": [
        "etiquetas = [\"queja\", \"elogio\", \"consulta\", \"pedido\", \"agradecimiento\"]\n",
        "\n",
        "prompt = f\"\"\"Clasificá el siguiente texto en una de estas categorías: {', '.join(etiquetas)}. Justificá tu elección.\n",
        "\n",
        "Texto: {text_to_process}\n",
        "\"\"\"\n",
        "\n",
        "respuesta = cliente.models.generate_content(\n",
        "    model=MODEL_ID,\n",
        "    contents=[prompt] # Pasa la pregunta como contenido\n",
        ")\n",
        "print(respuesta.text)\n"
      ],
      "metadata": {
        "id": "UtHlUvEy3URy",
        "colab": {
          "base_uri": "https://localhost:8080/"
        },
        "outputId": "3de1e6cb-954a-4604-b6ee-e060c4523386"
      },
      "execution_count": 26,
      "outputs": [
        {
          "output_type": "stream",
          "name": "stdout",
          "text": [
            "La categoría que mejor describe el texto es **queja**.\n",
            "\n",
            "**Justificación:**\n",
            "\n",
            "*   **Identificación del problema:** El texto describe una situación problemática recurrente que afecta al usuario: el subte A viaja extremadamente lleno debido a la conexión con el tren Sarmiento en la estación San José de Flores.\n",
            "*   **Expresión de incomodidad o frustración:** Aunque no se expresa directamente una emoción negativa, el texto implícitamente transmite incomodidad por la situación. La necesidad de dejar pasar formaciones y la mención de la alternativa (colectivo) con sus desventajas sugieren frustración.\n",
            "*   **Foco en lo negativo:** El texto se centra en las dificultades y los inconvenientes que el usuario experimenta al usar el subte A en ese horario específico.\n",
            "\n",
            "Aunque podría considerarse una consulta si el usuario preguntara por soluciones, el texto se limita a describir el problema, lo que lo inclina más hacia una queja o lamento de la situación.\n",
            "\n"
          ]
        }
      ]
    },
    {
      "cell_type": "markdown",
      "source": [
        "## EJERCICIO\n",
        "\n",
        "Escribí un texto corto sobre una experiencia personal en un transporte público en Buenos Aires.\n",
        "\n",
        "Luego, generá:\n",
        "\n",
        "- Un resumen.\n",
        "- Una clasificación de sentimiento.\n",
        "- Una lista de entidades nombradas."
      ],
      "metadata": {
        "id": "nOPQ22a63k0r"
      }
    }
  ]
}