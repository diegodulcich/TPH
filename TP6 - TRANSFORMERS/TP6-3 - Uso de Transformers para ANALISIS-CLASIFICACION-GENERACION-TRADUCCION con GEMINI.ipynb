{
  "nbformat": 4,
  "nbformat_minor": 0,
  "metadata": {
    "colab": {
      "provenance": [],
      "gpuType": "T4"
    },
    "kernelspec": {
      "name": "python3",
      "display_name": "Python 3"
    },
    "language_info": {
      "name": "python"
    },
    "accelerator": "GPU"
  },
  "cells": [
    {
      "cell_type": "code",
      "execution_count": 1,
      "metadata": {
        "id": "5ZVm6CIouwgF",
        "colab": {
          "base_uri": "https://localhost:8080/"
        },
        "outputId": "2d9a4e03-ae07-4102-c923-953d202e1e48"
      },
      "outputs": [
        {
          "output_type": "stream",
          "name": "stdout",
          "text": [
            "\u001b[?25l   \u001b[90m━━━━━━━━━━━━━━━━━━━━━━━━━━━━━━━━━━━━━━━━\u001b[0m \u001b[32m0.0/206.4 kB\u001b[0m \u001b[31m?\u001b[0m eta \u001b[36m-:--:--\u001b[0m\r\u001b[2K   \u001b[91m━━━━━━━━━━━━━━━━━━━━━━━━━━━━━━━━━━━━━━━\u001b[0m\u001b[91m╸\u001b[0m \u001b[32m204.8/206.4 kB\u001b[0m \u001b[31m21.8 MB/s\u001b[0m eta \u001b[36m0:00:01\u001b[0m\r\u001b[2K   \u001b[91m━━━━━━━━━━━━━━━━━━━━━━━━━━━━━━━━━━━━━━━\u001b[0m\u001b[91m╸\u001b[0m \u001b[32m204.8/206.4 kB\u001b[0m \u001b[31m21.8 MB/s\u001b[0m eta \u001b[36m0:00:01\u001b[0m\r\u001b[2K   \u001b[90m━━━━━━━━━━━━━━━━━━━━━━━━━━━━━━━━━━━━━━━━\u001b[0m \u001b[32m206.4/206.4 kB\u001b[0m \u001b[31m2.3 MB/s\u001b[0m eta \u001b[36m0:00:00\u001b[0m\n",
            "\u001b[?25h"
          ]
        }
      ],
      "source": [
        "%pip install -U -q google-genai"
      ]
    },
    {
      "cell_type": "markdown",
      "source": [
        "# Procesamiento de Lenguaje Natural con Google Gemini API\n",
        "Este script demuestra diversas aplicaciones de Procesamiento de Lenguaje Natural (PLN) utilizando el modelo Gemini de Google a través de la librería `google-generativeai`."
      ],
      "metadata": {
        "id": "KvvIHZvXyE2n"
      }
    },
    {
      "cell_type": "code",
      "source": [
        "from google.colab import userdata\n",
        "import os\n",
        "\n",
        "GOOGLE_API_KEY = userdata.get('GOOGLE_API_KEY')"
      ],
      "metadata": {
        "id": "0xS2NWpqvWHX"
      },
      "execution_count": 1,
      "outputs": []
    },
    {
      "cell_type": "code",
      "source": [
        "from google import genai\n",
        "from google.genai import types\n",
        "\n",
        "cliente = genai.Client(api_key=GOOGLE_API_KEY)"
      ],
      "metadata": {
        "id": "sL2CGPN7vvHj"
      },
      "execution_count": 2,
      "outputs": []
    },
    {
      "cell_type": "markdown",
      "source": [
        "# Definición del texto de entrada"
      ],
      "metadata": {
        "id": "Cy_bZVjVyTbE"
      }
    },
    {
      "cell_type": "code",
      "source": [
        "# Texto base que utilizaremos para todos los ejemplos.\n",
        "\n",
        "text_to_process = \"\"\"Estimado Amazon, la semana pasada pedí una figura de acción de Optimus Prime\n",
        "en su tienda en línea en Alemania. Desafortunadamente, cuando abrí el paquete,\n",
        "descubrí con horror que me habían enviado una figura de acción de Megatron\n",
        "en su lugar. Como enemigo de toda la vida de los Decepticons, espero que pueda\n",
        "entender mi dilema. Para resolver el problema, exijo un cambio de Megatron por\n",
        "la figura de Optimus Prime que pedí. Adjunto copias de mis registros relativos\n",
        "a esta compra. Espero tener noticias suyas pronto. Atentamente, Bumblebee.\"\"\"\n",
        "\n",
        "print(\"\\nTexto de entrada definido.\")"
      ],
      "metadata": {
        "id": "_NwHWVYpv_Ji",
        "colab": {
          "base_uri": "https://localhost:8080/"
        },
        "outputId": "022f2c42-bc92-4f46-906f-17577f69672e"
      },
      "execution_count": 3,
      "outputs": [
        {
          "output_type": "stream",
          "name": "stdout",
          "text": [
            "\n",
            "Texto de entrada definido.\n"
          ]
        }
      ]
    },
    {
      "cell_type": "code",
      "source": [
        "MODEL_ID = \"gemini-2.0-flash\" # @param [\"gemini-2.0-flash-lite\",\"gemini-2.0-flash\",\"gemini-2.5-flash-preview-05-20\",\"gemini-2.5-pro-preview-05-06\"] {\"allow-input\":true, isTemplate: true}"
      ],
      "metadata": {
        "id": "msa42Srs1Mci"
      },
      "execution_count": 4,
      "outputs": []
    },
    {
      "cell_type": "markdown",
      "source": [
        "## 1. Sumarizacion"
      ],
      "metadata": {
        "id": "nR1SRBxf1Sma"
      }
    },
    {
      "cell_type": "code",
      "source": [
        "pregunta = f\"\"\"Sumariza el siguiente texto en dos oraciones de rapida lectura\n",
        "\n",
        "Texto: {text_to_process}\n",
        "\"\"\"\n",
        "\n",
        "respuesta = cliente.models.generate_content(\n",
        "    model=MODEL_ID,\n",
        "    contents=[pregunta] # Pasa la pregunta como contenido\n",
        ")\n",
        "print(respuesta.text)"
      ],
      "metadata": {
        "id": "zjLIg2OZ1Pby",
        "colab": {
          "base_uri": "https://localhost:8080/"
        },
        "outputId": "2d001068-27d3-48fa-84e1-b6136f869e35"
      },
      "execution_count": 5,
      "outputs": [
        {
          "output_type": "stream",
          "name": "stdout",
          "text": [
            "Bumblebee le escribió a Amazon Alemania porque recibió una figura de Megatron en lugar de la de Optimus Prime que había ordenado. Exige un cambio por la figura correcta y adjuntó los comprobantes de su compra.\n",
            "\n"
          ]
        }
      ]
    },
    {
      "cell_type": "markdown",
      "source": [
        "##2. Clasificación de Sentimiento"
      ],
      "metadata": {
        "id": "A0XQRDI01INu"
      }
    },
    {
      "cell_type": "code",
      "source": [
        "pregunta = f\"\"\"Clasificá el siguiente texto como positivo, negativo o neutral y explicá por qué:\n",
        "\n",
        "Texto: {text_to_process}\n",
        "\"\"\"\n",
        "\n",
        "respuesta = cliente.models.generate_content(\n",
        "    model=MODEL_ID,\n",
        "    contents=[pregunta] # Pasa la pregunta como contenido\n",
        ")\n",
        "print(respuesta.text)"
      ],
      "metadata": {
        "id": "w59q68sb0og-",
        "colab": {
          "base_uri": "https://localhost:8080/"
        },
        "outputId": "f40f2474-2f04-485b-faff-5d7035e05eab"
      },
      "execution_count": 6,
      "outputs": [
        {
          "output_type": "stream",
          "name": "stdout",
          "text": [
            "El texto es **negativo**. Aquí te explico por qué:\n",
            "\n",
            "* **Problema expresado:** El cliente (Bumblebee) está claramente insatisfecho porque recibió un producto incorrecto. Hay una discrepancia entre lo que ordenó (Optimus Prime) y lo que recibió (Megatron).\n",
            "* **Emociones negativas implícitas:** Frases como \"con horror\" y \"entienda mi dilema\" implican decepción, frustración e incluso molestia por el error.\n",
            "* **Exigencia de solución:** El cliente no solo informa el problema, sino que exige una solución específica (cambio por el producto correcto). Esto sugiere que no está contento con la situación actual y espera una rectificación.\n",
            "* **Tono formal pero firme:** El tono general es cortés (usando \"Estimado\" y \"Atentamente\"), pero la petición es directa y la expectativa de una solución es clara. Esto refleja una cierta insatisfacción que necesita ser abordada.\n",
            "\n",
            "En resumen, aunque el texto no es agresivo, comunica una experiencia negativa debido al error en el envío y la necesidad de una solución.\n",
            "\n"
          ]
        }
      ]
    },
    {
      "cell_type": "markdown",
      "source": [
        "##3. Reconocimiento de Entidades Nombradas (NER)"
      ],
      "metadata": {
        "id": "Eyjbk9Ij1mlD"
      }
    },
    {
      "cell_type": "code",
      "source": [
        "prompt = f\"\"\"Extraé todas las entidades nombradas del siguiente texto (personas, organizaciones, lugares, objetos) y clasificálas:\n",
        "\n",
        "Texto: {text_to_process}\n",
        "\"\"\"\n",
        "\n",
        "respuesta = cliente.models.generate_content(\n",
        "    model=MODEL_ID,\n",
        "    contents=[prompt] # Pasa la pregunta como contenido\n",
        ")\n",
        "print(respuesta.text)"
      ],
      "metadata": {
        "id": "0ZO0owXo1nqM",
        "colab": {
          "base_uri": "https://localhost:8080/"
        },
        "outputId": "14ff0232-7634-4916-8b61-ce6c8ea400d9"
      },
      "execution_count": 7,
      "outputs": [
        {
          "output_type": "stream",
          "name": "stdout",
          "text": [
            "Aquí está la lista de entidades nombradas extraídas del texto, clasificadas por categoría:\n",
            "\n",
            "*   **Organizaciones:**\n",
            "    *   Amazon\n",
            "    *   Decepticons\n",
            "*   **Lugares:**\n",
            "    *   Alemania\n",
            "*   **Personas:**\n",
            "    *   Bumblebee\n",
            "*   **Objetos:**\n",
            "    *   Optimus Prime\n",
            "    *   Megatron\n"
          ]
        }
      ]
    },
    {
      "cell_type": "markdown",
      "source": [
        "##4. Respuesta a preguntas (Question Answering)"
      ],
      "metadata": {
        "id": "R7nLX8XA2ARy"
      }
    },
    {
      "cell_type": "code",
      "source": [
        "pregunta = \"¿Qué producto recibió el cliente?\"\n",
        "contexto = text_to_process\n",
        "\n",
        "prompt = f\"\"\"Respondé la siguiente pregunta basada en el texto:\n",
        "\n",
        "Texto: {contexto}\n",
        "Pregunta: {pregunta}\n",
        "\"\"\"\n",
        "\n",
        "respuesta = cliente.models.generate_content(\n",
        "    model=MODEL_ID,\n",
        "    contents=[contexto, pregunta] # Pasa la pregunta como contenido\n",
        ")\n",
        "print(respuesta.text)\n"
      ],
      "metadata": {
        "id": "_OJB5YkV2B0d",
        "colab": {
          "base_uri": "https://localhost:8080/"
        },
        "outputId": "447b79fc-ff23-4278-89bf-99f1ae599ebd"
      },
      "execution_count": 8,
      "outputs": [
        {
          "output_type": "stream",
          "name": "stdout",
          "text": [
            "El cliente recibió una figura de acción de Megatron.\n",
            "\n"
          ]
        }
      ]
    },
    {
      "cell_type": "markdown",
      "source": [
        "##5. Resumen automático"
      ],
      "metadata": {
        "id": "teUpLbTm2iah"
      }
    },
    {
      "cell_type": "code",
      "source": [
        "prompt = f\"\"\"Resumí el siguiente texto en no más de 3 líneas:\n",
        "\n",
        "Texto: {text_to_process}\n",
        "\"\"\"\n",
        "\n",
        "respuesta = cliente.models.generate_content(\n",
        "    model=MODEL_ID,\n",
        "    contents=[prompt] # Pasa la pregunta como contenido\n",
        ")\n",
        "print(respuesta.text)\n"
      ],
      "metadata": {
        "id": "eU1ntrhI2iIC",
        "colab": {
          "base_uri": "https://localhost:8080/"
        },
        "outputId": "47d85da1-e66a-480d-ce50-f2bdc08b9952"
      },
      "execution_count": 9,
      "outputs": [
        {
          "output_type": "stream",
          "name": "stdout",
          "text": [
            "Bumblebee se queja a Amazon Alemania por recibir una figura de acción de Megatron en lugar de la de Optimus Prime que había pedido. Exige un cambio por la figura correcta y adjunta pruebas de la compra. Espera una pronta respuesta.\n",
            "\n"
          ]
        }
      ]
    },
    {
      "cell_type": "markdown",
      "source": [
        "##6. Traducción (Español a Inglés)"
      ],
      "metadata": {
        "id": "tnd7hnBo254-"
      }
    },
    {
      "cell_type": "code",
      "source": [
        "prompt = f\"\"\"Traducí al inglés este texto:\n",
        "\n",
        "Texto: {text_to_process}\n",
        "\"\"\"\n",
        "\n",
        "respuesta = cliente.models.generate_content(\n",
        "    model=MODEL_ID,\n",
        "    contents=[prompt] # Pasa la pregunta como contenido\n",
        ")\n",
        "print(respuesta.text)\n"
      ],
      "metadata": {
        "id": "txSjXi-w2zOL",
        "colab": {
          "base_uri": "https://localhost:8080/"
        },
        "outputId": "0defcec1-6ce0-42c1-f17e-bcfd2aae20fc"
      },
      "execution_count": 10,
      "outputs": [
        {
          "output_type": "stream",
          "name": "stdout",
          "text": [
            "Here's the English translation:\n",
            "\n",
            "Dear Amazon,\n",
            "\n",
            "Last week I ordered an Optimus Prime action figure from your online store in Germany. Unfortunately, when I opened the package, I discovered to my horror that I had been sent a Megatron action figure instead. As a lifelong enemy of the Decepticons, I hope you can understand my dilemma. To resolve the issue, I demand an exchange of the Megatron for the Optimus Prime figure that I ordered. I have attached copies of my records relating to this purchase. I look forward to hearing from you soon.\n",
            "\n",
            "Sincerely,\n",
            "\n",
            "Bumblebee.\n",
            "\n"
          ]
        }
      ]
    },
    {
      "cell_type": "markdown",
      "source": [
        "##7. Generación de respuesta (como atención al cliente)"
      ],
      "metadata": {
        "id": "n2ODoTLy3Cp9"
      }
    },
    {
      "cell_type": "code",
      "source": [
        "respuesta_inicial = \"Estimado cliente, lamentamos mucho lo ocurrido con su pedido. \"\n",
        "\n",
        "prompt = f\"\"\"{text_to_process}\n",
        "\n",
        "Redactá una respuesta del servicio de atención al cliente que comience así:\n",
        "\n",
        "\"{respuesta_inicial}\"\n",
        "\n",
        "Cuya extension no supere las 4 lineas.\n",
        "\"\"\"\n",
        "\n",
        "respuesta = cliente.models.generate_content(\n",
        "    model=MODEL_ID,\n",
        "    contents=[prompt] # Pasa la pregunta como contenido\n",
        ")\n",
        "print(respuesta.text)"
      ],
      "metadata": {
        "id": "WmAhcje23CTG",
        "colab": {
          "base_uri": "https://localhost:8080/"
        },
        "outputId": "c8478eee-0f26-4a9b-e004-6ca942935d90"
      },
      "execution_count": 11,
      "outputs": [
        {
          "output_type": "stream",
          "name": "stdout",
          "text": [
            "Estimado cliente, lamentamos mucho lo ocurrido con su pedido. Entendemos su frustración por recibir una figura de Megatron en lugar de Optimus Prime. Con gusto gestionaremos el cambio de la figura incorrecta por la solicitada. Por favor, siga las instrucciones adjuntas para la devolución y le enviaremos su Optimus Prime a la brevedad.\n",
            "\n"
          ]
        }
      ]
    },
    {
      "cell_type": "markdown",
      "source": [
        "##8. Clasificación Zero-Shot (sin entrenamiento previo)"
      ],
      "metadata": {
        "id": "dtVjz8gr3VGR"
      }
    },
    {
      "cell_type": "code",
      "source": [
        "etiquetas = [\"queja\", \"elogio\", \"consulta\", \"pedido\", \"agradecimiento\"]\n",
        "\n",
        "prompt = f\"\"\"Clasificá el siguiente texto en una de estas categorías: {', '.join(etiquetas)}. Justificá tu elección.\n",
        "\n",
        "Texto: {text_to_process}\n",
        "\"\"\"\n",
        "\n",
        "respuesta = cliente.models.generate_content(\n",
        "    model=MODEL_ID,\n",
        "    contents=[prompt] # Pasa la pregunta como contenido\n",
        ")\n",
        "print(respuesta.text)\n"
      ],
      "metadata": {
        "id": "UtHlUvEy3URy",
        "colab": {
          "base_uri": "https://localhost:8080/"
        },
        "outputId": "53936a59-47c8-42d4-a0d0-b3d37e44c2cb"
      },
      "execution_count": 12,
      "outputs": [
        {
          "output_type": "stream",
          "name": "stdout",
          "text": [
            "**Clasificación:** Queja\n",
            "\n",
            "**Justificación:**\n",
            "\n",
            "El texto expresa **insatisfacción** con el servicio recibido. Bumblebee describe una discrepancia entre el producto que ordenó (Optimus Prime) y el producto que recibió (Megatron).  El tono general es de molestia y la frase \"descubrí con horror\" refuerza este sentimiento.  Además, Bumblebee **exige** una solución (el cambio del producto), lo cual es característico de una queja.  Aunque el tono es algo humorístico (por el uso de personajes de Transformers), el propósito principal del mensaje es reportar un problema y solicitar una corrección.\n",
            "\n"
          ]
        }
      ]
    },
    {
      "cell_type": "markdown",
      "source": [
        "## EJERCICIO\n",
        "\n",
        "Escribí un texto corto sobre una experiencia personal en un transporte público en Buenos Aires.\n",
        "\n",
        "Luego, generá:\n",
        "\n",
        "- Un resumen.\n",
        "- Una clasificación de sentimiento.\n",
        "- Una lista de entidades nombradas."
      ],
      "metadata": {
        "id": "nOPQ22a63k0r"
      }
    }
  ]
}