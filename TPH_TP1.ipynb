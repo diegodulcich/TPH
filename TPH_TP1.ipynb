{
 "cells": [
  {
   "cell_type": "markdown",
   "metadata": {
    "id": "U7RmZKse-3T3"
   },
   "source": [
    "# TP1 - Web Scraping"
   ]
  },
  {
   "cell_type": "markdown",
   "metadata": {},
   "source": [
    "## EJEMPLO 1: TRABAJAMOS CON PARRAFOS // NUBES DE PALABRAS"
   ]
  },
  {
   "cell_type": "markdown",
   "metadata": {},
   "source": [
    "### 1.- IMPORTAMOS LAS LIBRERIAS Y TEXTO A ANALIZAR"
   ]
  },
  {
   "cell_type": "code",
   "execution_count": null,
   "metadata": {
    "id": "VywE54E6yNIv"
   },
   "outputs": [],
   "source": [
    "# IMPORTAMOS LA LIBRERIA PARA HACER SOLICITUDES HTTP\n",
    "import requests"
   ]
  },
  {
   "cell_type": "code",
   "execution_count": null,
   "metadata": {
    "id": "UQKhisK0zqMt"
   },
   "outputs": [],
   "source": [
    "# IMPORTAMOS LA LIBRERIA PARA PERMITIR EXTRAER INFORMACION DE PAGINAS WEB\n",
    "from bs4 import BeautifulSoup"
   ]
  },
  {
   "cell_type": "code",
   "execution_count": null,
   "metadata": {
    "id": "yTckyJa8zyCC"
   },
   "outputs": [],
   "source": [
    "# DEFINIMOS LA URL CON LA CUAL VAMOS A TRABAJAR\n",
    "url = \"https://www.gutenberg.org/cache/epub/58221/pg58221-images.html\""
   ]
  },
  {
   "cell_type": "code",
   "execution_count": null,
   "metadata": {
    "id": "vcWBHNGv0y6K"
   },
   "outputs": [],
   "source": [
    "# EN LA VARIABLE CONTENIDO RECIBIMOS LA RESPUESTA DE LA SOLICITUD A LA PAGINA WEB QUE INVOCAMOS\n",
    "# COMO LA RESPUESTA DEL SERVIDOR WEB PUEDE CONTENER DIFERENTES TIPOS DE CONTENIDO (HTML, XML, JSON, ETC) INVOCAMOS AL MÉTODO \"TEST\"\n",
    "# PARA QUE TODO EL CONTENIDO DEVUELTO SEA TRATADO COMO TEXTO\n",
    "contenido = requests.get(url).text"
   ]
  },
  {
   "cell_type": "code",
   "execution_count": null,
   "metadata": {
    "colab": {
     "base_uri": "https://localhost:8080/"
    },
    "id": "FQ1KjKXh1O_y",
    "outputId": "f128f849-4628-45f8-cf86-9d9a90010d49"
   },
   "outputs": [],
   "source": [
    "# MOSTRAMOS EL TIPO DE DATO DE PARA VALIDAR QUE LO QUE SE RETORNÓ ESTA EN TEXTO\n",
    "print(type(contenido))"
   ]
  },
  {
   "cell_type": "code",
   "execution_count": null,
   "metadata": {
    "colab": {
     "base_uri": "https://localhost:8080/"
    },
    "id": "tlhr_CaJ_ALZ",
    "outputId": "7bc5e2c3-d6eb-4c32-8e0d-f456422d66f0",
    "scrolled": true
   },
   "outputs": [],
   "source": [
    "# MOSTRAMOS EL CONTENIDO DE LA VARIABLE DONDE VEMOS TODO TIPO DE FORMATOS ADEMÁS DEL TEXTO QUE NECESITAMOS/QUEREMOS PROCESAR\n",
    "print(contenido)"
   ]
  },
  {
   "cell_type": "code",
   "execution_count": null,
   "metadata": {
    "id": "vTLenMj01aDn"
   },
   "outputs": [],
   "source": [
    "# INVOCAMOS A LA LIBRERIA \"BEATIFULSOAP\"\n",
    "# LE PASAMOS COMO PARÁMETRO EL TEXTO A PROCESAR Y LE INDICAMOS QUE DEBE TRATARLO/PARSEARLO COMO UN CONTENIDO HTML\n",
    "soup = BeautifulSoup(contenido, \"html.parser\")"
   ]
  },
  {
   "cell_type": "code",
   "execution_count": null,
   "metadata": {
    "id": "xCIpwanf1lvG"
   },
   "outputs": [],
   "source": [
    "# DEFINIMOS UNA VARIABLE \"h1\" DONDE LE ASIGNAMOS TODAS LA ETIQUETAS \"<h1\"> QUE ENCONTRÓ EN EL CONTENIDO DE \"soap\"\n",
    "# <h1> a <h6>: Encabezados, de mayor a menor importancia.\n",
    "h1 = soup.find_all(\"h1\")"
   ]
  },
  {
   "cell_type": "code",
   "execution_count": null,
   "metadata": {
    "colab": {
     "base_uri": "https://localhost:8080/"
    },
    "id": "WIcjk-Cl13v6",
    "outputId": "e2ae197d-d988-4c59-c4f7-9a668880aac5"
   },
   "outputs": [],
   "source": [
    "print(h1)"
   ]
  },
  {
   "cell_type": "code",
   "execution_count": null,
   "metadata": {
    "id": "fBSKjYJx2NTO"
   },
   "outputs": [],
   "source": [
    "# DEFINIMOS UNA VARIALBE \"italicas\" A LA CUAL LE ASIGNAMOS TODAS LAS ETIQUETAS \"i\" (ITALICA / CURSIVA) DENTRO DEL DOCUMENTO HTML QUE ESTAMOS ANALIZANDO.\n",
    "# SE DEVUELVE UNA LISTA CON TODOS LOS ELEMENTOS ENCONTRADOS.\n",
    "# La etiqueta <i> en HTML se utiliza para mostrar texto en cursiva (itálica).\n",
    "italicas = soup.find_all(\"i\")"
   ]
  },
  {
   "cell_type": "code",
   "execution_count": null,
   "metadata": {
    "colab": {
     "base_uri": "https://localhost:8080/"
    },
    "id": "jaDzXAyn2Y8S",
    "outputId": "57569816-f9b6-413a-b050-9ff3cd172bfe",
    "scrolled": true
   },
   "outputs": [],
   "source": [
    "print(italicas)"
   ]
  },
  {
   "cell_type": "code",
   "execution_count": null,
   "metadata": {
    "id": "72j6DTea2bo8"
   },
   "outputs": [],
   "source": [
    "# IMPORTAMOS LA CLASE \"Counter\" DEL MÓDULO \"collectios\" LO QUE NOS PERMITIRÁ CONTAR LA FRECUENCIA DE ELEMNTOS EN UNA SECUENCIAS.\n",
    "from collections import Counter"
   ]
  },
  {
   "cell_type": "code",
   "execution_count": null,
   "metadata": {
    "id": "3iezRr6I2m1o"
   },
   "outputs": [],
   "source": [
    "# DEFINIMOS EN LA VARIABLE \"parrafos\" TODOS LOS TEXTOS QUE ESTÁN DENTRO DE ETIQUETAS <p> QUE SON PARRAFOS EN HTML.\n",
    "# La etiqueta <p> en HTML se usa para definir un párrafo de texto.\n",
    "parrafos = str(soup.find_all(\"p\"))"
   ]
  },
  {
   "cell_type": "code",
   "execution_count": null,
   "metadata": {
    "colab": {
     "base_uri": "https://localhost:8080/"
    },
    "id": "3ldXVgnKA7Y5",
    "outputId": "3219de10-abf4-454f-905f-009c2e1370c5",
    "scrolled": true
   },
   "outputs": [],
   "source": [
    "print(parrafos)"
   ]
  },
  {
   "cell_type": "code",
   "execution_count": null,
   "metadata": {
    "colab": {
     "base_uri": "https://localhost:8080/"
    },
    "id": "21AK5Ge93GER",
    "outputId": "88231d0d-6540-4d9e-d26b-1f5c23252958"
   },
   "outputs": [],
   "source": [
    "# INVOCAMOS EL MÉTODO \"count\" DE LA VARIABLE \"parrafos\" PARA CONTAR LA CANTIDAD DE VECES QUE APARECE UNA PALABRA EN CUSESTION.\n",
    "print(f'Cantidad de ocurrencias para \"Ulises\": {parrafos.count(\"Ulises\")}')\n",
    "print(f'Cantidad de ocurrencias para \"Ciclope\": {parrafos.count(\"Ciclope\")}')\n",
    "print(f'Cantidad de ocurrencias para \"Minerva\": {parrafos.count(\"Minerva\")}')"
   ]
  },
  {
   "cell_type": "code",
   "execution_count": null,
   "metadata": {
    "id": "VanJiPPi51y6"
   },
   "outputs": [],
   "source": [
    "# DEFINIMOS UNA FUNCION PARA BUSCAR PALABRAS\n",
    "def buscar_palabra(palabra):\n",
    "  ocurrencias = str(soup).lower().count(palabra.lower())\n",
    "  print(f\"Encontraste la plabra '{palabra}' {ocurrencias} veces\")\n",
    "\n",
    "# INVOCAMOS LA FUNCION CON EL TEXTO A BUSCAR\n",
    "buscar_palabra(\"Ulises\")"
   ]
  },
  {
   "cell_type": "code",
   "execution_count": null,
   "metadata": {
    "id": "_SDil_ex-vL_"
   },
   "outputs": [],
   "source": [
    "# IMPORTAMOS LA LIBRERIA PARA GENERAR NUMEROS ALEATORIOS Y HACER ELECCIONES ALEATORIAS\n",
    "import random"
   ]
  },
  {
   "cell_type": "code",
   "execution_count": null,
   "metadata": {
    "id": "b7XAiq5D_Q99"
   },
   "outputs": [],
   "source": [
    "parrafo = soup.find_all(\"p\")\n",
    "parrafo_aleatorio = random.choice(parrafo).text.strip()\n",
    "# random.choice(parrafo): SELECCIONA ALEATORIAMENTE UN ELEMENTO DE PARRAFO DE LA LISTA \"parrafo\".\n",
    "# .text: CONVIERTE A TEXTO EL BLOQUE DE TEXTO SELECCIONADO.\n",
    "# .strip(): ELIMINA CUALQUIER ESPACIO EN BLANCO AL PRINCIPO O AL FINAL DEL TEXTO EXTRAÍDO."
   ]
  },
  {
   "cell_type": "code",
   "execution_count": null,
   "metadata": {
    "colab": {
     "base_uri": "https://localhost:8080/"
    },
    "id": "RNY6IIo1AQCI",
    "outputId": "e5eb416d-4315-47cc-a345-0aceb7a31a14"
   },
   "outputs": [],
   "source": [
    "print(parrafo_aleatorio)"
   ]
  },
  {
   "cell_type": "code",
   "execution_count": null,
   "metadata": {
    "colab": {
     "base_uri": "https://localhost:8080/"
    },
    "id": "kwNFRDyWBBQS",
    "outputId": "9cb23951-5e6a-4607-9fdc-29d039675c09"
   },
   "outputs": [],
   "source": [
    "print(len(parrafo_aleatorio.split()))\n",
    "# .split(): SEPARA EL TEXTO DEL PARRAFO EN PALABRAS INDIVIDUALES UTILIZANDO ESPACIOS COMO DELIMITADOR.\n",
    "# len(): CUENTA LA CANTIDAD DE ELEMENTOS DE LA LISTA DE PALABRAS RESULTANTES."
   ]
  },
  {
   "cell_type": "code",
   "execution_count": null,
   "metadata": {},
   "outputs": [],
   "source": [
    "# INSTALAMOS LA LIBRERIA (EN CASO DE NO DISPONER DE ELLA EN EL AMBIENTE LOCAL)\n",
    "# EL AVISO NOS INFORMA QUE NO ESTÁ EN EL PATH DE OPERACIÓN CON LO CUAL, UNA OPCION ES COPIAR LA LIBRERIA IMPORTADA AL PATH DEL CODIGO.\n",
    "# !pip install wordcloud"
   ]
  },
  {
   "cell_type": "code",
   "execution_count": null,
   "metadata": {
    "id": "GvSDMHzUDO5l"
   },
   "outputs": [],
   "source": [
    "# IMPORTAMOS LIBRERIAS NECESARIAS\n",
    "from wordcloud import WordCloud # SE UTILIZA PARA CREAR NUBES DE PALABRAS.\n",
    "import numpy as np\n",
    "from PIL import Image # LA LIBRERIA \"PIL\" DE LA CLASE \"Image\" SE UTILIZA PARA TRABAJAR CON IMAGENES (ABRIR, MODIFICAR Y GUARDAR EN DISTINTOS FORMATOS)\n",
    "import nltk # LIBRERIA PARA PROCESAMIENTO DE LENGUAJE NATURAL\n",
    "from nltk.corpus import stopwords\n",
    "# IMPORTAMOS DE LA LIBRERIA \"nltk.corpus\" LA CLASE \"stopwords\"\n",
    "# LAS \"stop words\" SON PALABRAS COMUNES UN UN IDIOMA (\"el\", \"la\", \"de\", \"un\", etc.) QUE GEERALMENTE SE ELIMINAR DEL TEXTO A ANALIZAR.\n",
    "# ESTO ES PORQUE GENERALMENTE SE REPITEN MUCHO Y NO APORTAN INFORMACION RELEVANTE.\n",
    "import re # IMPORTAMOS LA LIBRERIA \"re\" QUE NOS PERMITE TRABAJAR CON EXPRESIONES REGULARES.\n",
    "import matplotlib.pyplot as plt # IMPORTAMOS LA LIBRERIA \"matplotlib.pyplot\" PARA REALIZAR GRÁFICOS."
   ]
  },
  {
   "cell_type": "code",
   "execution_count": null,
   "metadata": {
    "colab": {
     "base_uri": "https://localhost:8080/"
    },
    "id": "gI02TPEsFPjT",
    "outputId": "042c516d-cfd1-4f2a-b54b-4c2a14987604"
   },
   "outputs": [],
   "source": [
    "# DESCARGAMOS EL CORPUS DE PALABRAS EN ESPAÑOL DE NTLK\n",
    "nltk.download('stopwords')\n",
    "stopwords_es = set(stopwords.words('spanish'))"
   ]
  },
  {
   "cell_type": "code",
   "execution_count": null,
   "metadata": {
    "id": "0QmIgTrdFqo4"
   },
   "outputs": [],
   "source": [
    "# DEFINIMOS UNA FUNCION PARA LIMPIAR TEXTO\n",
    "def limpiar_texto(texto):\n",
    "  # CONVIERTE TODO EL TEXTO A MINÚSCULAS\n",
    "  texto_minuscula = texto.lower()\n",
    "  # UTILIZAMOS EXPRESIONES REGULARES PARA ELIMINAR LOS SIGNOS DE PUNTUACION Y CARACTERES ESPECIONES\n",
    "  texto_sin_puntuacion = re.sub(r'[^\\w\\s]', '', texto_minuscula)\n",
    "  # DIVIDIMOS EL TEXTO EN PALABRAS INDIVIDUALES\n",
    "  lista_palabras = texto_sin_puntuacion.split()\n",
    "  # DEFINIMOS UNA LISTA VACIA QUE LUEGO CONTENERÁ LAS PALABRAS IMPORTANTES A ANALIZAR\n",
    "  palabras_importantes = []\n",
    "  # RECORREMOS LA LISTA DE PALABRAS Y AQUELLAS QUE NO ESTÉN EN \"stopwords_es\" LA AGREGAMOS A LA LISTA\n",
    "  for palabra in lista_palabras:\n",
    "    if palabra not in stopwords_es:\n",
    "      palabras_importantes.append(palabra)\n",
    "  return palabras_importantes"
   ]
  },
  {
   "cell_type": "code",
   "execution_count": null,
   "metadata": {},
   "outputs": [],
   "source": [
    "print(soup) # TEXTO EN FORMATO HTML"
   ]
  },
  {
   "cell_type": "code",
   "execution_count": null,
   "metadata": {},
   "outputs": [],
   "source": [
    "texto_completo = soup.get_text() # TEXTO SIN ETIQUETAS HTML (FORMATO TEXTO)"
   ]
  },
  {
   "cell_type": "code",
   "execution_count": null,
   "metadata": {},
   "outputs": [],
   "source": [
    "print(texto_completo)"
   ]
  },
  {
   "cell_type": "code",
   "execution_count": null,
   "metadata": {
    "id": "dx2kagSGxHdU"
   },
   "outputs": [],
   "source": [
    "palabras_limpias = limpiar_texto(texto_completo)"
   ]
  },
  {
   "cell_type": "code",
   "execution_count": null,
   "metadata": {},
   "outputs": [],
   "source": [
    "print(palabras_limpias) # LISTA DE PALABRAS DEL TEXTO QUITANDO LAS QUE SE ENCONTRARON EN EL \"stop words\" "
   ]
  },
  {
   "cell_type": "code",
   "execution_count": null,
   "metadata": {},
   "outputs": [],
   "source": [
    "texto_limpio = ' '.join(palabras_limpias) # GENERA UN BLOQUE DE TEXTO A ANALIZAR UNIENDO TODOS LOS ELEMENTOS DE LA LISTA ANTERIOR"
   ]
  },
  {
   "cell_type": "code",
   "execution_count": null,
   "metadata": {},
   "outputs": [],
   "source": [
    "print(texto_limpio)"
   ]
  },
  {
   "cell_type": "code",
   "execution_count": null,
   "metadata": {},
   "outputs": [],
   "source": [
    "# CANTIDAD DE PALABRAS ELIMINANDO LAS QUE ESTÁN EN \"stopwords_es\"\n",
    "print(len(texto_limpio))"
   ]
  },
  {
   "cell_type": "markdown",
   "metadata": {
    "jp-MarkdownHeadingCollapsed": true
   },
   "source": [
    "### 2.- GENERAMOS PRIMER NUBE DE PALABRAS QUITANDO LAS \"STOP WORDS\""
   ]
  },
  {
   "cell_type": "code",
   "execution_count": null,
   "metadata": {
    "id": "CQk7fppyKe9N"
   },
   "outputs": [],
   "source": [
    "# DEFINIMOS LA PRIMER NUBE DE PALABRAS EN BASE A \"texto_limpio\"\n",
    "wordcloud = WordCloud(width=800, height=400, background_color='white').generate(texto_limpio)"
   ]
  },
  {
   "cell_type": "code",
   "execution_count": null,
   "metadata": {
    "colab": {
     "base_uri": "https://localhost:8080/",
     "height": 422
    },
    "id": "DTBI-P8UK05V",
    "outputId": "b9c7cf5e-511b-4e87-edc5-7ed4f63d06b7"
   },
   "outputs": [],
   "source": [
    "# MOSTRAMOS EL GRÁFICO QUE GENERAMOS CON \"matplotlib\" Y \"wordcloud\"\n",
    "plt.figure(figsize=(10, 5))\n",
    "plt.imshow(wordcloud, interpolation='bilinear')\n",
    "plt.axis('off')\n",
    "plt.show()"
   ]
  },
  {
   "cell_type": "code",
   "execution_count": null,
   "metadata": {
    "id": "zoP7HPTMzeno"
   },
   "outputs": [],
   "source": [
    "# PERSONALIZAMOS EL GRÁFICO DEFINIENDO ALGUNOS PARÁMETROS.\n",
    "# word: la palabra actual.\n",
    "# font_size: el tamaño de fuente asignado a esa palabra.\n",
    "# position: coordenadas donde se colocará.\n",
    "# orientation: orientación de la palabra (horizontal, vertical...).\n",
    "# random_state: para controlar aleatoriedad (opcional).\n",
    "# **kwargs: cualquier otro parámetro adicional que pase WordCloud.\n",
    "\n",
    "colores_personalizados = ['#FF0000', '#00FF00', '#0000FF']  # ROJO // VERDE // AZUL\n",
    "wordcloud = WordCloud(width=1600, height=800, background_color='white', color_func=lambda word, font_size, position, orientation, random_state=None, **kwargs: random.choice(colores_personalizados)).generate(texto_limpio)"
   ]
  },
  {
   "cell_type": "code",
   "execution_count": null,
   "metadata": {
    "colab": {
     "base_uri": "https://localhost:8080/",
     "height": 422
    },
    "id": "QFbFjnIXzWIL",
    "outputId": "ecc3d0bc-d8bc-4cca-cd1f-8a19ae640088"
   },
   "outputs": [],
   "source": [
    "plt.figure(figsize=(10, 5))\n",
    "plt.imshow(wordcloud, interpolation='bilinear')\n",
    "plt.axis('off')\n",
    "plt.show()"
   ]
  },
  {
   "cell_type": "markdown",
   "metadata": {
    "jp-MarkdownHeadingCollapsed": true
   },
   "source": [
    "### 3.- GENERAMOS UNA NUEVA NUBE DE PALABRAS AGREGANDO MÁS PALABRAS A ELIMINAR"
   ]
  },
  {
   "cell_type": "code",
   "execution_count": null,
   "metadata": {
    "id": "TRrA8RPEz6YL"
   },
   "outputs": [],
   "source": [
    "# REDEFINIMOS LA FUNCION PARA LIMPIAR TEXTO\n",
    "def limpiar_texto(texto):\n",
    "  # DEFINIMOS UNA LISTA DE PALABRAS PERSONALIZADAS A ELIMINAR\n",
    "  palabras_a_eliminar = ['dijo', 'así', 'aunque', 'sino', 'luego', 'pues', 'mientras', 'después', 'antes', 'porque', 'cuando', 'cómo', 'donde', \n",
    "                         'cap', 'capítulo', 'verso', 'canto', 'á', 'ó', 'si']\n",
    "  # DEFINIMOS UNA VARIABLE QUE UNIFICA LAS DOS LISTAS\n",
    "  black_list = stopwords_es.union(palabras_a_eliminar)\n",
    "  # CONVIERTE TODO EL TEXTO A MINÚSCULAS\n",
    "  texto_minuscula = texto.lower()\n",
    "  # UTILIZAMOS EXPRESIONES REGULARES PARA ELIMINAR LOS SIGNOS DE PUNTUACION Y CARACTERES ESPECIONES\n",
    "  texto_sin_puntuacion = re.sub(r'[^\\w\\s]', '', texto_minuscula)\n",
    "  # DIVIDIMOS EL TEXTO EN PALABRAS INDIVIDUALES\n",
    "  lista_palabras = texto_sin_puntuacion.split()  \n",
    "  # DEFINIMOS UNA LISTA VACIA QUE LUEGO CONTENERÁ LAS PALABRAS IMPORTANTES A ANALIZAR\n",
    "  palabras_importantes = []\n",
    "  # RECORREMOS LA LISTA DE PALABRAS Y AQUELLAS QUE NO ESTÉN EN \"black_list\" LA AGREGAMOS A LA LISTA\n",
    "  for palabra in lista_palabras:\n",
    "    if palabra not in black_list:\n",
    "      palabras_importantes.append(palabra)\n",
    "  return palabras_importantes"
   ]
  },
  {
   "cell_type": "code",
   "execution_count": null,
   "metadata": {},
   "outputs": [],
   "source": [
    "texto_completo = soup.get_text() # TEXTO SIN ETIQUETAS HTML (FORMATO TEXTO)"
   ]
  },
  {
   "cell_type": "code",
   "execution_count": null,
   "metadata": {},
   "outputs": [],
   "source": [
    "print(texto_completo)"
   ]
  },
  {
   "cell_type": "code",
   "execution_count": null,
   "metadata": {},
   "outputs": [],
   "source": [
    "palabras_limpias = limpiar_texto(texto_completo)"
   ]
  },
  {
   "cell_type": "code",
   "execution_count": null,
   "metadata": {},
   "outputs": [],
   "source": [
    "print(palabras_limpias) # LISTA DE PALABRAS DEL TEXTO QUITANDO LAS QUE SE ENCONTRARON EN EL \"stop words\" "
   ]
  },
  {
   "cell_type": "code",
   "execution_count": null,
   "metadata": {},
   "outputs": [],
   "source": [
    "texto_limpio = ' '.join(palabras_limpias) # GENERA UN BLOQUE DE TEXTO A ANALIZAR UNIENDO TODOS LOS ELEMENTOS DE LA LISTA ANTERIOR"
   ]
  },
  {
   "cell_type": "code",
   "execution_count": null,
   "metadata": {
    "id": "7tJq-ViF4ksv",
    "scrolled": true
   },
   "outputs": [],
   "source": [
    "print(texto_limpio)"
   ]
  },
  {
   "cell_type": "code",
   "execution_count": null,
   "metadata": {},
   "outputs": [],
   "source": [
    "# CANTIDAD DE PALABRAS ELIMINANDO LAS QUE ESTÁN EN \"stopwords_es\"\n",
    "print(len(texto_limpio))"
   ]
  },
  {
   "cell_type": "code",
   "execution_count": null,
   "metadata": {
    "colab": {
     "base_uri": "https://localhost:8080/"
    },
    "id": "LOC4Y2CPw2XP",
    "jupyter": {
     "source_hidden": true
    },
    "outputId": "7d5eed60-6e5d-49b6-fbdb-79b786230707"
   },
   "outputs": [],
   "source": [
    "print(texto_completo)"
   ]
  },
  {
   "cell_type": "markdown",
   "metadata": {
    "jp-MarkdownHeadingCollapsed": true
   },
   "source": [
    "### 4.- GENERAMOS SEGUNDA NUBE DE PALABRAS QUITANDO LA \"BLACKLIST\""
   ]
  },
  {
   "cell_type": "code",
   "execution_count": null,
   "metadata": {
    "id": "WP4oImgJ4ckc"
   },
   "outputs": [],
   "source": [
    "wordcloud = WordCloud(width=800, height=400, background_color=\"black\", colormap = \"inferno\").generate(texto_limpio)"
   ]
  },
  {
   "cell_type": "code",
   "execution_count": null,
   "metadata": {
    "colab": {
     "base_uri": "https://localhost:8080/",
     "height": 422
    },
    "id": "zlHktCUJ5B1x",
    "outputId": "c391b967-de5c-4c2f-c66c-676a47cbf830"
   },
   "outputs": [],
   "source": [
    "plt.figure(figsize=(20, 5))\n",
    "plt.imshow(wordcloud, interpolation=\"bilinear\")\n",
    "plt.axis(\"off\")\n",
    "plt.show()"
   ]
  },
  {
   "cell_type": "markdown",
   "metadata": {
    "id": "MhrUrCEw-xtv",
    "jp-MarkdownHeadingCollapsed": true
   },
   "source": [
    "## EJEMPLO 2: TRABAJAMOS CON PREGUNTAS Y RESPUESTAS"
   ]
  },
  {
   "cell_type": "code",
   "execution_count": null,
   "metadata": {
    "id": "AaLvhYCw3kOr"
   },
   "outputs": [],
   "source": [
    "# IMPORTAMOS LA LIBRERIA PARA HACER SOLICITUDES HTTP\n",
    "import requests"
   ]
  },
  {
   "cell_type": "code",
   "execution_count": null,
   "metadata": {},
   "outputs": [],
   "source": [
    "# IMPORTAMOS LA LIBRERIA PARA PERMITIR EXTRAER INFORMACION DE PAGINAS WEB\n",
    "from bs4 import BeautifulSoup"
   ]
  },
  {
   "cell_type": "code",
   "execution_count": null,
   "metadata": {},
   "outputs": [],
   "source": [
    "# DEFINIMOS LA URL CON LA CUAL VAMOS A TRABAJAR\n",
    "url_2 = \"https://stackoverflow.com/questions/415511/how-to-get-the-current-time-in-python\""
   ]
  },
  {
   "cell_type": "code",
   "execution_count": null,
   "metadata": {},
   "outputs": [],
   "source": [
    "# EN LA VARIABLE CONTENIDO RECIBIMOS LA RESPUESTA DE LA SOLICITUD A LA PAGINA WEB QUE INVOCAMOS\n",
    "# COMO LA RESPUESTA DEL SERVIDOR WEB PUEDE CONTENER DIFERENTES TIPOS DE CONTENIDO (HTML, XML, JSON, ETC) INVOCAMOS AL MÉTODO \"TEST\"\n",
    "# PARA QUE TODO EL CONTENIDO DEVUELTO SEA TRATADO COMO TEXTO\n",
    "contenido = requests.get(url_2).text"
   ]
  },
  {
   "cell_type": "code",
   "execution_count": null,
   "metadata": {},
   "outputs": [],
   "source": [
    "# VISUALIZAMOS EL CONTENIDO DE LA SOLICITUD.\n",
    "# OBSERVAMOS LA RESPUESTA EN TEXTO CON LAS ETIQUETAS HTML DEVUELTAS POR LA PAGINA\n",
    "print(contenido)"
   ]
  },
  {
   "cell_type": "code",
   "execution_count": null,
   "metadata": {},
   "outputs": [],
   "source": [
    "# AL INVOCAR EL MÉTODO .GET (SIN EL MÉTODO .TEXT) OBSERVAMOS EL CODIGO DEVUELTO POR EL SERVIDOR (200 = OK)\n",
    "pagina = requests.get(url_2)"
   ]
  },
  {
   "cell_type": "code",
   "execution_count": null,
   "metadata": {},
   "outputs": [],
   "source": [
    "print(pagina)"
   ]
  },
  {
   "cell_type": "code",
   "execution_count": null,
   "metadata": {
    "id": "dLLPqKiB_jdV"
   },
   "outputs": [],
   "source": [
    "# Creamos el objeto soup y le indicamos que el contenido lo trate como contenido HTML\n",
    "soup = BeautifulSoup(contenido, \"html.parser\")"
   ]
  },
  {
   "cell_type": "code",
   "execution_count": null,
   "metadata": {
    "colab": {
     "base_uri": "https://localhost:8080/"
    },
    "id": "UZ0jfvyS6boB",
    "jupyter": {
     "source_hidden": true
    },
    "outputId": "dbb313f4-6325-41f2-fab1-97fc7ca4111d"
   },
   "outputs": [],
   "source": [
    "print(soup)"
   ]
  },
  {
   "cell_type": "code",
   "execution_count": null,
   "metadata": {},
   "outputs": [],
   "source": [
    "# BUSCAMOS DENTRO DEL HTML EL PRIMER ELEMENTO <div> QUE TENGA LA CLASE \"question\"`.\n",
    "# SI LO ENCUENTRA LO DEVUELVE COMO UN OBJETO TAG DE BEAUTIFULSOUP DE LO CONTRARIO DEVUELVE \"NONE\"\n",
    "pregunta = soup.find(\"div\", {\"class\": \"question\"})"
   ]
  },
  {
   "cell_type": "code",
   "execution_count": null,
   "metadata": {
    "colab": {
     "base_uri": "https://localhost:8080/"
    },
    "id": "4Z7BovxRDuZk",
    "outputId": "2db6fb30-7bd0-4743-997f-d6f00e5d3fcd"
   },
   "outputs": [],
   "source": [
    "print(pregunta)"
   ]
  },
  {
   "cell_type": "code",
   "execution_count": null,
   "metadata": {
    "id": "Nlx3NZFKDp32"
   },
   "outputs": [],
   "source": [
    "# BUSCAMOS DENTRO DEL HTML EL PRIMER ELEMENTO <div> QUE TENGA LA CLASE \"s-prose js-post-body\"`.\n",
    "texto_pregunta = pregunta.find(\"div\", {\"class\": \"s-prose js-post-body\"})"
   ]
  },
  {
   "cell_type": "code",
   "execution_count": null,
   "metadata": {
    "colab": {
     "base_uri": "https://localhost:8080/"
    },
    "id": "tu793KF76Bv6",
    "outputId": "c151cd8d-ed34-4d7f-b327-5d32dbe4ecf9"
   },
   "outputs": [],
   "source": [
    "# VISUALIZAMOS EL TEXTO BUSCADO EN FORMATO HTML\n",
    "print(texto_pregunta)"
   ]
  },
  {
   "cell_type": "code",
   "execution_count": null,
   "metadata": {
    "colab": {
     "base_uri": "https://localhost:8080/"
    },
    "id": "Zh8feWvoA69R",
    "outputId": "540908ee-75bc-4565-f35e-6b93bdaa65e8"
   },
   "outputs": [],
   "source": [
    "# .split(): SEPARA EL TEXTO EN PALABRAS INDIVIDUALES UTILIZANDO ESPACIOS COMO DELIMITADOR.\n",
    "# .get_text() EXTRAE SOLO EL TEXTO DE UN ELEMNTO HTML (ELIMINANDO TODAS LAS ETIQUETAS HTML).\n",
    "print(texto_pregunta.get_text().strip()) # LOGRAMOS OBTENER CLARAMENTE LA PREGUNTA DE LA PAGINA A ANALIZAR"
   ]
  },
  {
   "cell_type": "code",
   "execution_count": null,
   "metadata": {
    "id": "_JLPftFHBzly"
   },
   "outputs": [],
   "source": [
    "# BUSCAMOS DENTRO DEL HTML EL PRIMER ELEMENTO <div> QUE TENGA LA CLASE \"answer\"`.\n",
    "# SI LO ENCUENTRA LO DEVUELVE COMO UN OBJETO TAG DE BEAUTIFULSOUP DE LO CONTRARIO DEVUELVE \"NONE\"\n",
    "respuesta = soup.find(\"div\", {\"class\": \"answer\"})"
   ]
  },
  {
   "cell_type": "code",
   "execution_count": null,
   "metadata": {
    "colab": {
     "base_uri": "https://localhost:8080/"
    },
    "id": "Jaq6aef-FfRH",
    "outputId": "7945a788-beb6-41b9-d813-8256c763682f"
   },
   "outputs": [],
   "source": [
    "print(respuesta)"
   ]
  },
  {
   "cell_type": "code",
   "execution_count": null,
   "metadata": {
    "id": "LzcXUW5KFZvn"
   },
   "outputs": [],
   "source": [
    "# BUSCAMOS DENTRO DEL HTML EL PRIMER ELEMENTO <div> QUE TENGA LA CLASE \"s-prose js-post-body\"`.\n",
    "texto_respuesta = respuesta.find(\"div\", {\"class\": \"s-prose js-post-body\"})"
   ]
  },
  {
   "cell_type": "code",
   "execution_count": null,
   "metadata": {
    "colab": {
     "base_uri": "https://localhost:8080/"
    },
    "id": "scftu7e3FeEM",
    "outputId": "f987511b-eb91-4688-ea75-39cc7e278b6d"
   },
   "outputs": [],
   "source": [
    "# .split(): SEPARA EL TEXTO EN PALABRAS INDIVIDUALES UTILIZANDO ESPACIOS COMO DELIMITADOR.\n",
    "# .get_text() EXTRAE SOLO EL TEXTO DE UN ELEMNTO HTML (ELIMINANDO TODAS LAS ETIQUETAS HTML).\n",
    "print(texto_respuesta.get_text().strip()) # LOGRAMOS OBTENER CLARAMENTE LA RESPUESTA DE LA PAGINA A ANALIZAR"
   ]
  }
 ],
 "metadata": {
  "colab": {
   "provenance": []
  },
  "kernelspec": {
   "display_name": "Python 3 (ipykernel)",
   "language": "python",
   "name": "python3"
  },
  "language_info": {
   "codemirror_mode": {
    "name": "ipython",
    "version": 3
   },
   "file_extension": ".py",
   "mimetype": "text/x-python",
   "name": "python",
   "nbconvert_exporter": "python",
   "pygments_lexer": "ipython3",
   "version": "3.12.7"
  }
 },
 "nbformat": 4,
 "nbformat_minor": 4
}
